{
 "cells": [
  {
   "cell_type": "markdown",
   "metadata": {},
   "source": [
    "# Question 1 :\n",
    "Assuming that we have some email addresses in the \"username@companyname.com\" format, please\n",
    "write a program to print the company name of a given email address. Both user names and company\n",
    "names are composed of letters only.\n",
    "Input Format:\n",
    "The first line of the input contains an email address.\n",
    "Output Format:\n",
    "Print the company name in a single line."
   ]
  },
  {
   "cell_type": "code",
   "execution_count": 3,
   "metadata": {},
   "outputs": [
    {
     "name": "stdout",
     "output_type": "stream",
     "text": [
      "Email address:siddheshpal11@gmail.com\n",
      "Company Name: gmail\n"
     ]
    }
   ],
   "source": [
    "x = input(\"Email address:\")\n",
    "y = x.index(\"@\")\n",
    "print(\"Company Name:\",x[y+1:len(x)-4])"
   ]
  },
  {
   "cell_type": "markdown",
   "metadata": {},
   "source": [
    "# Question 2 :\n",
    "Write a program that accepts a comma-separated sequence of words as input and prints the words in a\n",
    "comma-separated sequence after sorting them alphabetically.\n",
    "Input Format:\n",
    "The first line of input contains words separated by the comma.\n",
    "Output Format:\n",
    "Print the sorted words separated by the comma."
   ]
  },
  {
   "cell_type": "code",
   "execution_count": 9,
   "metadata": {},
   "outputs": [
    {
     "name": "stdout",
     "output_type": "stream",
     "text": [
      "Input:\n",
      " Parth,Shivam,Rahul\n",
      "Output:\n",
      " Parth,Rahul,Shivam\n"
     ]
    }
   ],
   "source": [
    "items = input(\"Input:\\n \")\n",
    "words = [word for word in items.split(\",\")]\n",
    "print(\"Output:\\n\",\",\".join(sorted(words)))"
   ]
  },
  {
   "cell_type": "markdown",
   "metadata": {},
   "source": [
    "# Question 3:\n",
    "Create your own Jupyter Notebook for Sets. Reference link:\n",
    "https://www.w3schools.com/python/python_sets.asp"
   ]
  },
  {
   "cell_type": "code",
   "execution_count": 10,
   "metadata": {},
   "outputs": [
    {
     "name": "stdout",
     "output_type": "stream",
     "text": [
      "{'Computer', 'Sparrow', 'Jack', 'College'}\n"
     ]
    },
    {
     "data": {
      "text/plain": [
       "{'Cricket', 'Football', 'Polo'}"
      ]
     },
     "execution_count": 10,
     "metadata": {},
     "output_type": "execute_result"
    }
   ],
   "source": [
    "\n",
    "#Create a Set:\n",
    "thisset = {\"Jack\", \"Computer\", \"Sparrow\",\"College\"}\n",
    "print(thisset)\n",
    "{'Cricket', 'Football', 'Polo'}"
   ]
  },
  {
   "cell_type": "code",
   "execution_count": 14,
   "metadata": {},
   "outputs": [
    {
     "name": "stdout",
     "output_type": "stream",
     "text": [
      "Computer\n",
      "Polo\n",
      "Dig\n",
      "Cricket\n"
     ]
    }
   ],
   "source": [
    "\n",
    "#Loop through the set, and print the values:\n",
    "thisset = {\"Cricket\", \"Computer\", \"Polo\",\"Dig\"}\n",
    "for x in thisset:\n",
    "  print(x)"
   ]
  },
  {
   "cell_type": "code",
   "execution_count": 13,
   "metadata": {},
   "outputs": [
    {
     "name": "stdout",
     "output_type": "stream",
     "text": [
      "{'Polo', 'Football', 'Pop', 'Cricket'}\n"
     ]
    },
    {
     "data": {
      "text/plain": [
       "{'Cricket', 'Football', 'Polo', 'Volleyball'}"
      ]
     },
     "execution_count": 13,
     "metadata": {},
     "output_type": "execute_result"
    }
   ],
   "source": [
    "\n",
    "#Add an item to a set, using the add() method:\n",
    "thisset = {\"Cricket\", \"Football\", \"Polo\",\"Pop\"}\n",
    "thisset.add(\"Polo\")\n",
    "print(thisset)\n",
    "{'Volleyball', 'Cricket', 'Football', 'Polo'}"
   ]
  },
  {
   "cell_type": "code",
   "execution_count": 12,
   "metadata": {},
   "outputs": [
    {
     "name": "stdout",
     "output_type": "stream",
     "text": [
      "{'Cricket', 'Polo', 'volleyball', 'Football', 'carrom', 'Horse', 'rugby'}\n"
     ]
    },
    {
     "data": {
      "text/plain": [
       "{'Cricket', 'Football', 'Polo', 'carrom', 'rugby', 'volleyball'}"
      ]
     },
     "execution_count": 12,
     "metadata": {},
     "output_type": "execute_result"
    }
   ],
   "source": [
    "\n",
    "#Add multiple items to a set, using the update() method:\n",
    "thisset = {\"Cricket\", \"Football\", \"Polo\"}\n",
    "thisset.update([\"carrom\", \"volleyball\", \"rugby\",\"Horse\"])\n",
    "print(thisset)\n",
    "{'carrom', 'Cricket', 'Polo', 'volleyball', 'rugby', 'Football'}"
   ]
  },
  {
   "cell_type": "code",
   "execution_count": 11,
   "metadata": {},
   "outputs": [
    {
     "name": "stdout",
     "output_type": "stream",
     "text": [
      "{'Football', ' Bat', 'David'}\n"
     ]
    }
   ],
   "source": [
    "#Remove \"Zebra\" by using the remove() method:\n",
    "thisset = {\"David\", \"Football\", \" Bat\",\"Zebra\"}\n",
    "thisset.remove(\"Zebra\")\n",
    "print(thisset)"
   ]
  },
  {
   "cell_type": "markdown",
   "metadata": {},
   "source": [
    "# Question 4:\n",
    "Given a list of n-1 numbers ranging from 1 to n, your task is to find the missing number. There are no\n",
    "duplicates.\n",
    "Input Format:\n",
    "The first line contains n-1 numbers with each number separated by a space.\n",
    "Output Format:\n",
    "Print the missing number"
   ]
  },
  {
   "cell_type": "code",
   "execution_count": 15,
   "metadata": {},
   "outputs": [
    {
     "name": "stdout",
     "output_type": "stream",
     "text": [
      "9.0\n"
     ]
    }
   ],
   "source": [
    "def missing_number(list_num): \n",
    "    n = len(list_num) \n",
    "    orig_sum = ((n+1)*(n+2)/2) \n",
    "    new_sum = sum(list_num) \n",
    "    missing_number = (orig_sum-new_sum) \n",
    "    return missing_number \n",
    "\n",
    "list_num=[1, 2, 3, 5, 6, 4, 7, 8, 10]\n",
    "miss = missing_number(list_num)\n",
    "print(miss)"
   ]
  },
  {
   "cell_type": "markdown",
   "metadata": {},
   "source": [
    "# Question 5:\n",
    "With a given list L, write a program to print this list L after removing all duplicate values with original order\n",
    "reserved.\n",
    "Example:\n",
    "If the input list is\n",
    "12 24 35 24 88 120 155 88 120 155\n",
    "Then the output should be\n",
    "12 24 35 88 120 155\n",
    "Explanation:\n",
    "Third, the seventh and ninth element of the list L has been removed because it was already present.\n",
    "Input Format:\n",
    "In one line take the elements of the list L with each element separated by a space.\n",
    "Output Format:\n",
    "Print the elements of the modified list in one line with each element separated by a space."
   ]
  },
  {
   "cell_type": "code",
   "execution_count": 16,
   "metadata": {},
   "outputs": [
    {
     "name": "stdout",
     "output_type": "stream",
     "text": [
      "[4, 7, 10, 20, 5, 2]\n"
     ]
    }
   ],
   "source": [
    "\n",
    "def Remove(duplicate): \n",
    "    final_list = [] \n",
    "    for num in duplicate: \n",
    "        if num not in final_list: \n",
    "            final_list.append(num) \n",
    "    return final_list \n",
    "      \n",
    "duplicate = [4, 7, 10, 20, 5, 2, 20, 7, 4] \n",
    "print(Remove(duplicate))"
   ]
  },
  {
   "cell_type": "code",
   "execution_count": null,
   "metadata": {},
   "outputs": [],
   "source": []
  }
 ],
 "metadata": {
  "kernelspec": {
   "display_name": "Python 3",
   "language": "python",
   "name": "python3"
  },
  "language_info": {
   "codemirror_mode": {
    "name": "ipython",
    "version": 3
   },
   "file_extension": ".py",
   "mimetype": "text/x-python",
   "name": "python",
   "nbconvert_exporter": "python",
   "pygments_lexer": "ipython3",
   "version": "3.8.3"
  }
 },
 "nbformat": 4,
 "nbformat_minor": 4
}
